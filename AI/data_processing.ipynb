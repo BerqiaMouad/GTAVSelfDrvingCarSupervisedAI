{
 "cells": [
  {
   "attachments": {},
   "cell_type": "markdown",
   "metadata": {},
   "source": [
    "## ***Add this to yolov7 folder to work !!***"
   ]
  },
  {
   "attachments": {},
   "cell_type": "markdown",
   "metadata": {},
   "source": [
    "# Data preprocessing"
   ]
  },
  {
   "cell_type": "code",
   "execution_count": null,
   "metadata": {},
   "outputs": [],
   "source": [
    "import numpy as np\n",
    "import cv2 as cv\n",
    "import matplotlib.pyplot as plt\n",
    "import pandas as pd\n",
    "import torch\n",
    "from models.experimental import attempt_load\n",
    "from utils.general import non_max_suppression, xyxy2xywh\n",
    "from utils.torch_utils import time_synchronized"
   ]
  },
  {
   "cell_type": "code",
   "execution_count": null,
   "metadata": {},
   "outputs": [],
   "source": [
    "df = pd.read_csv('../../frameRecorder/data.csv')"
   ]
  },
  {
   "cell_type": "code",
   "execution_count": null,
   "metadata": {},
   "outputs": [],
   "source": [
    "df.head()"
   ]
  },
  {
   "cell_type": "code",
   "execution_count": null,
   "metadata": {},
   "outputs": [],
   "source": [
    "device = torch.device('cuda' if torch.cuda.is_available() else 'cpu')\n",
    "if(torch.cuda.is_available()):\n",
    "    torch.cuda.empty_cache()\n",
    "\n",
    "print(torch.cuda.get_device_name(0))"
   ]
  },
  {
   "cell_type": "code",
   "execution_count": null,
   "metadata": {},
   "outputs": [],
   "source": [
    "# Load model\n",
    "model = attempt_load('yolov7.pt', map_location=device)"
   ]
  },
  {
   "cell_type": "code",
   "execution_count": null,
   "metadata": {},
   "outputs": [],
   "source": [
    "# Set parameters\n",
    "if(torch.cuda.is_available()):\n",
    "    model.half()\n",
    "img_size = (128, 128)\n",
    "conf_thres = 0.3\n",
    "\n",
    "if(device == 'cuda'):\n",
    "    model(torch.zeros(1, 3, img_size).to(device).type_as(next(model.parameters())))"
   ]
  },
  {
   "cell_type": "code",
   "execution_count": null,
   "metadata": {},
   "outputs": [],
   "source": [
    "def detect_objects_per_frame(frame):\n",
    "    torch.cuda.empty_cache()\n",
    "\n",
    "    # Resize image\n",
    "    img = cv.resize(frame, img_size)\n",
    "    tempimg = img\n",
    "    img = img.transpose(2, 0, 1)  # HWC to CHW\n",
    "    img = torch.from_numpy(img).to(device).float()\n",
    "    img = img.half()\n",
    "    img /= 255.0\n",
    "\n",
    "    # Detect objects\n",
    "    t1 = time_synchronized()\n",
    "    # to prevent memory leaks !!!\n",
    "    with torch.no_grad():\n",
    "        pred = model(img.unsqueeze(0), augment=False)[0]\n",
    "    pred = non_max_suppression(pred, conf_thres, agnostic=False)\n",
    "    t2 = time_synchronized()\n",
    "\n",
    "    img = img.detach()\n",
    "    del img\n",
    "\n",
    "    # dictionary to story informations about objects : x, y, width and height. The key is the name of the object.\n",
    "    objs = {}\n",
    "\n",
    "    # Process detections    \n",
    "    for i, det in enumerate(pred):\n",
    "        # Rescale detection coordinates\n",
    "        if det is not None and len(det):\n",
    "\n",
    "            # getting the x, y coordinates with the width and height and drawing the boxes\n",
    "            for *xyxy, conf, cls in reversed(det):\n",
    "                temp_tensor = torch.tensor(xyxy).view(1, 4)\n",
    "                x, y, w, h = xyxy2xywh(temp_tensor).squeeze(0)\n",
    "\n",
    "                # freeing memory occupied by the tensor\n",
    "                temp_tensor = temp_tensor.detach()\n",
    "                del temp_tensor\n",
    "                torch.cuda.empty_cache()\n",
    "                \n",
    "                xx, yy, ww, hh = (x / img_size[0]) * frame.shape[1], (y / img_size[1]) * frame.shape[0], (w / img_size[0]) * frame.shape[1], (h / img_size[1]) * frame.shape[0]\n",
    "                label = f'{model.names[int(cls)]} {conf:.2f}'\n",
    "                objs[label] = [xx, yy, ww, hh]\n",
    "                cv.rectangle(frame, (int(xx - ww / 2), int(yy - hh / 2)), (int(xx - ww / 2 + ww), int(yy - hh / 2 + hh)), (255, 255, 0), 2)\n",
    "                cv.putText(frame, label, (int(xx - ww / 2), int(yy - h / 2) - 10), cv.FONT_HERSHEY_SIMPLEX, 0.5, (255, 255, 0), 1)\n",
    "\n",
    "\n",
    "    return (objs, frame, t1, t2, tempimg)"
   ]
  },
  {
   "cell_type": "code",
   "execution_count": null,
   "metadata": {},
   "outputs": [],
   "source": [
    "# Load image\n",
    "temp = df.iloc[8000]['image_id']\n",
    "img0 = cv.imread(f'../../frameRecorder/screenShots/{temp}.png')  # BGR\n",
    "img0 = cv.cvtColor(img0, cv.COLOR_BGR2RGB)\n",
    "\n",
    "# crop unnecessary data (this will change for other tasks, currently we only need to detect objects on the road) \n",
    "img0 = img0[50:490, :]\n",
    "\n",
    "\n",
    "%matplotlib inline\n",
    "plt.imshow(img0)"
   ]
  },
  {
   "cell_type": "code",
   "execution_count": null,
   "metadata": {},
   "outputs": [],
   "source": [
    "# detect objects using the funtction and get the new frame, the coordinates of the objects and the time needed for the prediction only not the whole function\n",
    "objectss, nframe, t1, t2, tp = detect_objects_per_frame(img0)"
   ]
  },
  {
   "cell_type": "code",
   "execution_count": null,
   "metadata": {},
   "outputs": [],
   "source": [
    "# print the dictionary of objects and informations about their coordinates\n",
    "for k, v in objectss.items():\n",
    "    print(f'{k}: ', end=\"[\")\n",
    "    for i in v:\n",
    "        print(f'{i}', end=\", \")\n",
    "    print(\"]\")\n",
    "\n",
    "# print time needed only for detection (this might change a lot if we use cuda instead of the CPU)\n",
    "print(t2 - t1)\n",
    "\n",
    "%matplotlib inline\n",
    "plt.imshow(tp)"
   ]
  },
  {
   "cell_type": "code",
   "execution_count": null,
   "metadata": {},
   "outputs": [],
   "source": []
  }
 ],
 "metadata": {
  "kernelspec": {
   "display_name": "Python 3",
   "language": "python",
   "name": "python3"
  },
  "language_info": {
   "codemirror_mode": {
    "name": "ipython",
    "version": 3
   },
   "file_extension": ".py",
   "mimetype": "text/x-python",
   "name": "python",
   "nbconvert_exporter": "python",
   "pygments_lexer": "ipython3",
   "version": "3.9.0"
  },
  "orig_nbformat": 4,
  "vscode": {
   "interpreter": {
    "hash": "a5d40858746d1aa7dbcafb5ecdb69b6d7f0a02adf7b7cdcba021ab985ed7285e"
   }
  }
 },
 "nbformat": 4,
 "nbformat_minor": 2
}
